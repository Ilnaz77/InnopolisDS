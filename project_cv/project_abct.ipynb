{
 "cells": [
  {
   "cell_type": "code",
   "execution_count": 3,
   "metadata": {},
   "outputs": [],
   "source": [
    "import torch\n",
    "import torchvision\n",
    "import numpy as np\n",
    "import matplotlib.pyplot as plt\n",
    "import time\n",
    "import copy\n",
    "import random\n",
    "from torchvision import transforms, models, datasets\n",
    "from torch.utils.data import DataLoader\n",
    "import cv2\n",
    "\n",
    "import PIL.Image as Image\n",
    "from torchvision.transforms import ToTensor, ToPILImage\n",
    "import torch.nn.functional as F\n",
    "\n",
    "device = torch.device('cuda:0' if torch.cuda.is_available() else 'cpu')"
   ]
  },
  {
   "cell_type": "code",
   "execution_count": 52,
   "metadata": {},
   "outputs": [],
   "source": [
    "def read_video(filename, num_of_frames=100):\n",
    "    \"\"\"input: \n",
    "            Video name - имя файла в текущей папке, \n",
    "            Num_of_frames - число фрэймов\n",
    "       output: \n",
    "            FloatTensor [T, C, H, W]\n",
    "    \"\"\"\n",
    "    return torchvision.io.read_video(filename, pts_unit='sec')[0][:num_of_frames].permute(0,3,1,2).type(torch.FloatTensor)\n",
    "\n",
    "def write_video(filename, video_array, fps=1):\n",
    "    \"\"\"Записывает тензор в формате [T, C, H, W] в видеофайл.\n",
    "       input:\n",
    "           filename - путь для save видео\n",
    "           video_array - тензор [T, C, H, W]\n",
    "           fps - число кадров в секунду\n",
    "    \"\"\"\n",
    "    torchvision.io.write_video(filename, video_array.permute(0,2,3,1).type(torch.uint8), fps)\n",
    "    \n",
    "def show_frame(input_tensor, title=''):\n",
    "    \"\"\"Функция для отрисовки кадров.\n",
    "       input:\n",
    "           Любой тензор [1,C,H,W]\n",
    "    \"\"\"\n",
    "    image = input_tensor.permute(1, 2, 0).numpy()\n",
    "    plt.imshow((image).astype(np.uint8))\n",
    "    plt.title(title)\n",
    "    plt.show()\n",
    "    \n",
    "def set_random_seed(seed=0):\n",
    "    \"\"\"Сделаем систему детерминированной.\"\"\"\n",
    "    random.seed(seed)\n",
    "    np.random.seed(seed)\n",
    "    torch.manual_seed(seed)\n",
    "    torch.cuda.manual_seed(seed)\n",
    "    torch.backends.cudnn.deterministic = True\n",
    "\n",
    "def get_device():\n",
    "    \"\"\"Если система поддерживает CUDA, то вернет GPU\n",
    "       иначе вернет CPU. Нужно для закидывания модели и тензоров в GPU.\n",
    "       Потом можно к любому тензору, модели применять .to(get_device())\"\"\"\n",
    "    global device\n",
    "    return device\n",
    "\n",
    "def read_write_video(file_name):\n",
    "    \"\"\"input: Название файла.\"\"\"\n",
    "    counter = 0\n",
    "    cap = cv2.VideoCapture(file_name)    \n",
    "    fheight, fwidth = int(cap.get(3)), int(cap.get(4))\n",
    "    fourcc = cv2.VideoWriter_fourcc(*'MP4V')\n",
    "    out = cv2.VideoWriter('output.mp4', fourcc, 20.0, (fwidth, fheight))  \n",
    "    while(cap.isOpened()):\n",
    "        check, frame = cap.read()\n",
    "        counter += 1\n",
    "        if counter % 20 == 0:\n",
    "            frame = object_detection_api(frame)\n",
    "        out.write(frame)\n",
    "        if cv2.waitKey(1) & 0xFF == ord('q'):\n",
    "            break\n",
    "    cap.release()\n",
    "    out.release()\n",
    "    cv2.destroyAllWindows()\n",
    "    \n",
    "def get_prediction(img_tensor, threshold):\n",
    "    \"\"\"Получает 1 кадр размера [C,H,W]\"\"\"\n",
    "    model.eval()\n",
    "    with torch.no_grad():\n",
    "        pred = model([img_tensor]) # Pass the image to the model\n",
    "    pred_class = [COCO_INSTANCE_CATEGORY_NAMES[i] for i in list(pred[0]['labels'].numpy())] # Get the Prediction Score\n",
    "    pred_boxes = [[(i[0], i[1]), (i[2], i[3])] for i in list(pred[0]['boxes'].detach().numpy())] # Bounding boxes\n",
    "    pred_score = list(pred[0]['scores'].detach().numpy())\n",
    "    pred_t = [pred_score.index(x) for x in pred_score if x > threshold][-1] # Get list of index with score greater than threshold.\n",
    "    pred_boxes = pred_boxes[:pred_t+1]\n",
    "    pred_class = pred_class[:pred_t+1]\n",
    "    return pred_boxes, pred_class\n",
    "\n",
    "def object_detection(image, threshold=0.5, rect_th=2, text_size=1, text_th=1):\n",
    "    \"\"\"Получает 1 кадр cv2\"\"\"\n",
    "    image = cv2.cvtColor(image, cv2.COLOR_BGR2RGB)\n",
    "    tensor_image = torch.tensor(image, dtype=torch.float32).permute(2,0,1)\n",
    "    tensor_image /= 255.\n",
    "    boxes, pred_cls = get_prediction(tensor_image, threshold) # Get predictions\n",
    "    for i in range(len(boxes)):\n",
    "        cv2.rectangle(image, boxes[i][0], boxes[i][1],color=(255, 0, 0), thickness=rect_th) # Draw Rectangle with the coordinates\n",
    "        cv2.putText(image, pred_cls[i], boxes[i][0],  cv2.FONT_HERSHEY_SIMPLEX, text_size, (255,255,255), thickness=text_th) # Write the prediction class\n",
    "    return image    \n",
    "\n",
    "COCO_INSTANCE_CATEGORY_NAMES = [\n",
    "    '__background__', 'person', 'bicycle', 'car', 'motorcycle', 'airplane', 'bus',\n",
    "    'train', 'truck', 'boat', 'traffic light', 'fire hydrant', 'N/A', 'stop sign',\n",
    "    'parking meter', 'bench', 'bird', 'cat', 'dog', 'horse', 'sheep', 'cow',\n",
    "    'elephant', 'bear', 'zebra', 'giraffe', 'N/A', 'backpack', 'umbrella', 'N/A', 'N/A',\n",
    "    'handbag', 'tie', 'suitcase', 'frisbee', 'skis', 'snowboard', 'sports ball',\n",
    "    'kite', 'baseball bat', 'baseball glove', 'skateboard', 'surfboard', 'tennis racket',\n",
    "    'bottle', 'N/A', 'wine glass', 'cup', 'fork', 'knife', 'spoon', 'bowl',\n",
    "    'banana', 'apple', 'sandwich', 'orange', 'broccoli', 'carrot', 'hot dog', 'pizza',\n",
    "    'donut', 'cake', 'chair', 'couch', 'potted plant', 'bed', 'N/A', 'dining table',\n",
    "    'N/A', 'N/A', 'toilet', 'N/A', 'tv', 'laptop', 'mouse', 'remote', 'keyboard', 'cell phone',\n",
    "    'microwave', 'oven', 'toaster', 'sink', 'refrigerator', 'N/A', 'book',\n",
    "    'clock', 'vase', 'scissors', 'teddy bear', 'hair drier', 'toothbrush'\n",
    "]"
   ]
  },
  {
   "cell_type": "code",
   "execution_count": 4,
   "metadata": {},
   "outputs": [],
   "source": [
    "set_random_seed(0)\n",
    "\n",
    "# load a model pre-trained pre-trained on COCO\n",
    "model = torchvision.models.detection.fasterrcnn_resnet50_fpn(pretrained=True) # .to(get_device())\n",
    "model.eval();"
   ]
  },
  {
   "cell_type": "code",
   "execution_count": 49,
   "metadata": {
    "scrolled": false
   },
   "outputs": [],
   "source": [
    "# a = cv2.imread('h-7.jpg')\n",
    "# b = object_detection_api(a)\n",
    "# video_func('test.mp4')"
   ]
  },
  {
   "cell_type": "code",
   "execution_count": 51,
   "metadata": {},
   "outputs": [],
   "source": [
    "# plt.figure(figsize=(20,20))\n",
    "# plt.imshow(b)"
   ]
  },
  {
   "cell_type": "code",
   "execution_count": null,
   "metadata": {},
   "outputs": [],
   "source": [
    "# py run_classifier.py --task_name=MRPC --do_train=true --do_eval=true --data_dir=$GLUE_DIR/MRPC --vocab_file=$BERT_BASE_DIR/vocab.txt --bert_config_file=$BERT_BASE_DIR/bert_config.json --init_checkpoint=$BERT_BASE_DIR/bert_model.ckpt --max_seq_length=128 --train_batch_size=32 --learning_rate=2e-5 --num_train_epochs=3.0 --output_dir=/tmp/mrpc_output"
   ]
  },
  {
   "cell_type": "markdown",
   "metadata": {},
   "source": [
    "## Алгоритм отслеживания центроидов\n"
   ]
  },
  {
   "cell_type": "code",
   "execution_count": null,
   "metadata": {},
   "outputs": [],
   "source": []
  }
 ],
 "metadata": {
  "kernelspec": {
   "display_name": "Python 3",
   "language": "python",
   "name": "python3"
  },
  "language_info": {
   "codemirror_mode": {
    "name": "ipython",
    "version": 3
   },
   "file_extension": ".py",
   "mimetype": "text/x-python",
   "name": "python",
   "nbconvert_exporter": "python",
   "pygments_lexer": "ipython3",
   "version": "3.6.6"
  }
 },
 "nbformat": 4,
 "nbformat_minor": 2
}
